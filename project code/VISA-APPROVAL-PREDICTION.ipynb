{
 "cells": [
  {
   "cell_type": "code",
   "execution_count": 85,
   "id": "f4e8155b",
   "metadata": {},
   "outputs": [],
   "source": [
    "import numpy as np\n",
    "import pandas as pd\n",
    "import matplotlib.pyplot as plt\n",
    "%matplotlib inline\n",
    "import joblib\n",
    "import seaborn as sns\n",
    "from sklearn.model_selection import train_test_split\n",
    "from sklearn.linear_model import LogisticRegression\n",
    "from sklearn.metrics import confusion_matrix, classification_report\n",
    "import re"
   ]
  },
  {
   "cell_type": "code",
   "execution_count": 86,
   "id": "27c38a74",
   "metadata": {},
   "outputs": [],
   "source": [
    "df=pd.read_csv('C:/Users/general/Downloads/h1b_kaggle.zip')"
   ]
  },
  {
   "cell_type": "code",
   "execution_count": 87,
   "id": "cb564ea3",
   "metadata": {},
   "outputs": [
    {
     "data": {
      "text/html": [
       "<div>\n",
       "<style scoped>\n",
       "    .dataframe tbody tr th:only-of-type {\n",
       "        vertical-align: middle;\n",
       "    }\n",
       "\n",
       "    .dataframe tbody tr th {\n",
       "        vertical-align: top;\n",
       "    }\n",
       "\n",
       "    .dataframe thead th {\n",
       "        text-align: right;\n",
       "    }\n",
       "</style>\n",
       "<table border=\"1\" class=\"dataframe\">\n",
       "  <thead>\n",
       "    <tr style=\"text-align: right;\">\n",
       "      <th></th>\n",
       "      <th>CASE_ID</th>\n",
       "      <th>CASE_STATUS</th>\n",
       "      <th>EMPLOYER_NAME</th>\n",
       "      <th>SOC_NAME</th>\n",
       "      <th>JOB_TITLE</th>\n",
       "      <th>FULL_TIME_POSITION</th>\n",
       "      <th>PREVAILING_WAGE</th>\n",
       "      <th>YEAR</th>\n",
       "      <th>WORKSITE</th>\n",
       "      <th>state</th>\n",
       "      <th>lon</th>\n",
       "      <th>lat</th>\n",
       "    </tr>\n",
       "  </thead>\n",
       "  <tbody>\n",
       "    <tr>\n",
       "      <th>0</th>\n",
       "      <td>1</td>\n",
       "      <td>CERTIFIED-WITHDRAWN</td>\n",
       "      <td>UNIVERSITY OF MICHIGAN</td>\n",
       "      <td>BIOCHEMISTS AND BIOPHYSICISTS</td>\n",
       "      <td>POSTDOCTORAL RESEARCH FELLOW</td>\n",
       "      <td>N</td>\n",
       "      <td>36067.0</td>\n",
       "      <td>2016</td>\n",
       "      <td>ANN ARBOR</td>\n",
       "      <td>washington</td>\n",
       "      <td>-83.743038</td>\n",
       "      <td>42.280826</td>\n",
       "    </tr>\n",
       "    <tr>\n",
       "      <th>1</th>\n",
       "      <td>2</td>\n",
       "      <td>CERTIFIED-WITHDRAWN</td>\n",
       "      <td>GOODMAN NETWORKS, INC.</td>\n",
       "      <td>CHIEF EXECUTIVES</td>\n",
       "      <td>CHIEF OPERATING OFFICER</td>\n",
       "      <td>Y</td>\n",
       "      <td>242674.0</td>\n",
       "      <td>2016</td>\n",
       "      <td>PLANO</td>\n",
       "      <td>new york</td>\n",
       "      <td>-96.698886</td>\n",
       "      <td>33.019843</td>\n",
       "    </tr>\n",
       "    <tr>\n",
       "      <th>2</th>\n",
       "      <td>3</td>\n",
       "      <td>CERTIFIED-WITHDRAWN</td>\n",
       "      <td>PORTS AMERICA GROUP, INC.</td>\n",
       "      <td>CHIEF EXECUTIVES</td>\n",
       "      <td>CHIEF PROCESS OFFICER</td>\n",
       "      <td>Y</td>\n",
       "      <td>193066.0</td>\n",
       "      <td>2016</td>\n",
       "      <td>JERSEY CITY</td>\n",
       "      <td>new york</td>\n",
       "      <td>-74.077642</td>\n",
       "      <td>40.728158</td>\n",
       "    </tr>\n",
       "    <tr>\n",
       "      <th>3</th>\n",
       "      <td>4</td>\n",
       "      <td>CERTIFIED-WITHDRAWN</td>\n",
       "      <td>GATES CORPORATION, A WHOLLY-OWNED SUBSIDIARY O...</td>\n",
       "      <td>CHIEF EXECUTIVES</td>\n",
       "      <td>REGIONAL PRESIDEN, AMERICAS</td>\n",
       "      <td>Y</td>\n",
       "      <td>220314.0</td>\n",
       "      <td>2016</td>\n",
       "      <td>DENVER</td>\n",
       "      <td>washington</td>\n",
       "      <td>-104.990251</td>\n",
       "      <td>39.739236</td>\n",
       "    </tr>\n",
       "    <tr>\n",
       "      <th>4</th>\n",
       "      <td>5</td>\n",
       "      <td>WITHDRAWN</td>\n",
       "      <td>PEABODY INVESTMENTS CORP.</td>\n",
       "      <td>CHIEF EXECUTIVES</td>\n",
       "      <td>PRESIDENT MONGOLIA AND INDIA</td>\n",
       "      <td>Y</td>\n",
       "      <td>157518.4</td>\n",
       "      <td>2016</td>\n",
       "      <td>ST. LOUIS</td>\n",
       "      <td>washington</td>\n",
       "      <td>-90.199404</td>\n",
       "      <td>38.627003</td>\n",
       "    </tr>\n",
       "    <tr>\n",
       "      <th>...</th>\n",
       "      <td>...</td>\n",
       "      <td>...</td>\n",
       "      <td>...</td>\n",
       "      <td>...</td>\n",
       "      <td>...</td>\n",
       "      <td>...</td>\n",
       "      <td>...</td>\n",
       "      <td>...</td>\n",
       "      <td>...</td>\n",
       "      <td>...</td>\n",
       "      <td>...</td>\n",
       "      <td>...</td>\n",
       "    </tr>\n",
       "    <tr>\n",
       "      <th>1048570</th>\n",
       "      <td>1048571</td>\n",
       "      <td>CERTIFIED</td>\n",
       "      <td>LARSEN &amp; TOUBRO INFOTECH LIMITED</td>\n",
       "      <td>COMPUTER PROGRAMMERS</td>\n",
       "      <td>COMPUTER PROGRAMMER</td>\n",
       "      <td>Y</td>\n",
       "      <td>51605.0</td>\n",
       "      <td>2015</td>\n",
       "      <td>HOUSTON</td>\n",
       "      <td>new york</td>\n",
       "      <td>-95.369803</td>\n",
       "      <td>29.760427</td>\n",
       "    </tr>\n",
       "    <tr>\n",
       "      <th>1048571</th>\n",
       "      <td>1048572</td>\n",
       "      <td>CERTIFIED</td>\n",
       "      <td>ALLSCRIPTS HEALTHCARE, LLC</td>\n",
       "      <td>MANAGERS, ALL OTHER</td>\n",
       "      <td>MANAGER, PROFESSIONAL SERVICES</td>\n",
       "      <td>Y</td>\n",
       "      <td>103792.0</td>\n",
       "      <td>2015</td>\n",
       "      <td>PITTSBURGH</td>\n",
       "      <td>new york</td>\n",
       "      <td>-79.995886</td>\n",
       "      <td>40.440625</td>\n",
       "    </tr>\n",
       "    <tr>\n",
       "      <th>1048572</th>\n",
       "      <td>1048573</td>\n",
       "      <td>CERTIFIED</td>\n",
       "      <td>HEALTHLINE NETWORKS, INC.</td>\n",
       "      <td>SOFTWARE DEVELOPERS, APPLICATIONS</td>\n",
       "      <td>SENIOR UI ENGINEER</td>\n",
       "      <td>Y</td>\n",
       "      <td>94162.0</td>\n",
       "      <td>2015</td>\n",
       "      <td>SAN FRANCISCO</td>\n",
       "      <td>new york</td>\n",
       "      <td>-122.419415</td>\n",
       "      <td>37.774929</td>\n",
       "    </tr>\n",
       "    <tr>\n",
       "      <th>1048573</th>\n",
       "      <td>1048574</td>\n",
       "      <td>CERTIFIED</td>\n",
       "      <td>THE HACKETT GROUP, INC.</td>\n",
       "      <td>COMPUTER AND INFORMATION SYSTEMS MANAGERS</td>\n",
       "      <td>MANAGER</td>\n",
       "      <td>Y</td>\n",
       "      <td>120619.0</td>\n",
       "      <td>2015</td>\n",
       "      <td>CHICAGO</td>\n",
       "      <td>new york</td>\n",
       "      <td>-87.629798</td>\n",
       "      <td>41.878114</td>\n",
       "    </tr>\n",
       "    <tr>\n",
       "      <th>1048574</th>\n",
       "      <td>1048575</td>\n",
       "      <td>CERTIFIED</td>\n",
       "      <td>IBM CORPORATION</td>\n",
       "      <td>COMPUTER AND INFORMATION SYSTEMS MANAGERS</td>\n",
       "      <td>CLIENT SERVICES EXECUTIVE</td>\n",
       "      <td>Y</td>\n",
       "      <td>109512.0</td>\n",
       "      <td>2015</td>\n",
       "      <td>CARY</td>\n",
       "      <td>washington</td>\n",
       "      <td>-78.781117</td>\n",
       "      <td>35.791540</td>\n",
       "    </tr>\n",
       "  </tbody>\n",
       "</table>\n",
       "<p>1048575 rows × 12 columns</p>\n",
       "</div>"
      ],
      "text/plain": [
       "         CASE_ID          CASE_STATUS  \\\n",
       "0              1  CERTIFIED-WITHDRAWN   \n",
       "1              2  CERTIFIED-WITHDRAWN   \n",
       "2              3  CERTIFIED-WITHDRAWN   \n",
       "3              4  CERTIFIED-WITHDRAWN   \n",
       "4              5            WITHDRAWN   \n",
       "...          ...                  ...   \n",
       "1048570  1048571            CERTIFIED   \n",
       "1048571  1048572            CERTIFIED   \n",
       "1048572  1048573            CERTIFIED   \n",
       "1048573  1048574            CERTIFIED   \n",
       "1048574  1048575            CERTIFIED   \n",
       "\n",
       "                                             EMPLOYER_NAME  \\\n",
       "0                                   UNIVERSITY OF MICHIGAN   \n",
       "1                                   GOODMAN NETWORKS, INC.   \n",
       "2                                PORTS AMERICA GROUP, INC.   \n",
       "3        GATES CORPORATION, A WHOLLY-OWNED SUBSIDIARY O...   \n",
       "4                                PEABODY INVESTMENTS CORP.   \n",
       "...                                                    ...   \n",
       "1048570                   LARSEN & TOUBRO INFOTECH LIMITED   \n",
       "1048571                         ALLSCRIPTS HEALTHCARE, LLC   \n",
       "1048572                          HEALTHLINE NETWORKS, INC.   \n",
       "1048573                            THE HACKETT GROUP, INC.   \n",
       "1048574                                    IBM CORPORATION   \n",
       "\n",
       "                                          SOC_NAME  \\\n",
       "0                    BIOCHEMISTS AND BIOPHYSICISTS   \n",
       "1                                 CHIEF EXECUTIVES   \n",
       "2                                 CHIEF EXECUTIVES   \n",
       "3                                 CHIEF EXECUTIVES   \n",
       "4                                 CHIEF EXECUTIVES   \n",
       "...                                            ...   \n",
       "1048570                       COMPUTER PROGRAMMERS   \n",
       "1048571                        MANAGERS, ALL OTHER   \n",
       "1048572          SOFTWARE DEVELOPERS, APPLICATIONS   \n",
       "1048573  COMPUTER AND INFORMATION SYSTEMS MANAGERS   \n",
       "1048574  COMPUTER AND INFORMATION SYSTEMS MANAGERS   \n",
       "\n",
       "                              JOB_TITLE FULL_TIME_POSITION  PREVAILING_WAGE  \\\n",
       "0          POSTDOCTORAL RESEARCH FELLOW                  N          36067.0   \n",
       "1               CHIEF OPERATING OFFICER                  Y         242674.0   \n",
       "2                 CHIEF PROCESS OFFICER                  Y         193066.0   \n",
       "3           REGIONAL PRESIDEN, AMERICAS                  Y         220314.0   \n",
       "4          PRESIDENT MONGOLIA AND INDIA                  Y         157518.4   \n",
       "...                                 ...                ...              ...   \n",
       "1048570             COMPUTER PROGRAMMER                  Y          51605.0   \n",
       "1048571  MANAGER, PROFESSIONAL SERVICES                  Y         103792.0   \n",
       "1048572              SENIOR UI ENGINEER                  Y          94162.0   \n",
       "1048573                         MANAGER                  Y         120619.0   \n",
       "1048574       CLIENT SERVICES EXECUTIVE                  Y         109512.0   \n",
       "\n",
       "         YEAR       WORKSITE       state         lon        lat  \n",
       "0        2016      ANN ARBOR  washington  -83.743038  42.280826  \n",
       "1        2016          PLANO    new york  -96.698886  33.019843  \n",
       "2        2016    JERSEY CITY    new york  -74.077642  40.728158  \n",
       "3        2016         DENVER  washington -104.990251  39.739236  \n",
       "4        2016      ST. LOUIS  washington  -90.199404  38.627003  \n",
       "...       ...            ...         ...         ...        ...  \n",
       "1048570  2015        HOUSTON    new york  -95.369803  29.760427  \n",
       "1048571  2015     PITTSBURGH    new york  -79.995886  40.440625  \n",
       "1048572  2015  SAN FRANCISCO    new york -122.419415  37.774929  \n",
       "1048573  2015        CHICAGO    new york  -87.629798  41.878114  \n",
       "1048574  2015           CARY  washington  -78.781117  35.791540  \n",
       "\n",
       "[1048575 rows x 12 columns]"
      ]
     },
     "execution_count": 87,
     "metadata": {},
     "output_type": "execute_result"
    }
   ],
   "source": [
    "df"
   ]
  },
  {
   "cell_type": "code",
   "execution_count": 88,
   "id": "5dda3317",
   "metadata": {},
   "outputs": [
    {
     "name": "stdout",
     "output_type": "stream",
     "text": [
      "<class 'pandas.core.frame.DataFrame'>\n",
      "RangeIndex: 1048575 entries, 0 to 1048574\n",
      "Data columns (total 12 columns):\n",
      " #   Column              Non-Null Count    Dtype  \n",
      "---  ------              --------------    -----  \n",
      " 0   CASE_ID             1048575 non-null  int64  \n",
      " 1   CASE_STATUS         1048575 non-null  object \n",
      " 2   EMPLOYER_NAME       1048556 non-null  object \n",
      " 3   SOC_NAME            1048564 non-null  object \n",
      " 4   JOB_TITLE           1048567 non-null  object \n",
      " 5   FULL_TIME_POSITION  1048574 non-null  object \n",
      " 6   PREVAILING_WAGE     1048571 non-null  float64\n",
      " 7   YEAR                1048575 non-null  int64  \n",
      " 8   WORKSITE            1048542 non-null  object \n",
      " 9   state               1048575 non-null  object \n",
      " 10  lon                 1019007 non-null  float64\n",
      " 11  lat                 1019007 non-null  float64\n",
      "dtypes: float64(3), int64(2), object(7)\n",
      "memory usage: 96.0+ MB\n"
     ]
    },
    {
     "data": {
      "text/html": [
       "<div>\n",
       "<style scoped>\n",
       "    .dataframe tbody tr th:only-of-type {\n",
       "        vertical-align: middle;\n",
       "    }\n",
       "\n",
       "    .dataframe tbody tr th {\n",
       "        vertical-align: top;\n",
       "    }\n",
       "\n",
       "    .dataframe thead th {\n",
       "        text-align: right;\n",
       "    }\n",
       "</style>\n",
       "<table border=\"1\" class=\"dataframe\">\n",
       "  <thead>\n",
       "    <tr style=\"text-align: right;\">\n",
       "      <th></th>\n",
       "      <th>CASE_ID</th>\n",
       "      <th>PREVAILING_WAGE</th>\n",
       "      <th>YEAR</th>\n",
       "      <th>lon</th>\n",
       "      <th>lat</th>\n",
       "    </tr>\n",
       "  </thead>\n",
       "  <tbody>\n",
       "    <tr>\n",
       "      <th>count</th>\n",
       "      <td>1.048575e+06</td>\n",
       "      <td>1.048571e+06</td>\n",
       "      <td>1.048575e+06</td>\n",
       "      <td>1.019007e+06</td>\n",
       "      <td>1.019007e+06</td>\n",
       "    </tr>\n",
       "    <tr>\n",
       "      <th>mean</th>\n",
       "      <td>5.242880e+05</td>\n",
       "      <td>8.942724e+04</td>\n",
       "      <td>2.015618e+03</td>\n",
       "      <td>-9.224186e+01</td>\n",
       "      <td>3.816965e+01</td>\n",
       "    </tr>\n",
       "    <tr>\n",
       "      <th>std</th>\n",
       "      <td>3.026977e+05</td>\n",
       "      <td>1.643214e+06</td>\n",
       "      <td>4.859268e-01</td>\n",
       "      <td>1.936639e+01</td>\n",
       "      <td>4.606127e+00</td>\n",
       "    </tr>\n",
       "    <tr>\n",
       "      <th>min</th>\n",
       "      <td>1.000000e+00</td>\n",
       "      <td>0.000000e+00</td>\n",
       "      <td>2.015000e+03</td>\n",
       "      <td>-1.578583e+02</td>\n",
       "      <td>1.343719e+01</td>\n",
       "    </tr>\n",
       "    <tr>\n",
       "      <th>25%</th>\n",
       "      <td>2.621445e+05</td>\n",
       "      <td>5.636800e+04</td>\n",
       "      <td>2.015000e+03</td>\n",
       "      <td>-1.118910e+02</td>\n",
       "      <td>3.415175e+01</td>\n",
       "    </tr>\n",
       "    <tr>\n",
       "      <th>50%</th>\n",
       "      <td>5.242880e+05</td>\n",
       "      <td>6.651800e+04</td>\n",
       "      <td>2.016000e+03</td>\n",
       "      <td>-8.648955e+01</td>\n",
       "      <td>3.908400e+01</td>\n",
       "    </tr>\n",
       "    <tr>\n",
       "      <th>75%</th>\n",
       "      <td>7.864315e+05</td>\n",
       "      <td>8.247200e+04</td>\n",
       "      <td>2.016000e+03</td>\n",
       "      <td>-7.559826e+01</td>\n",
       "      <td>4.088374e+01</td>\n",
       "    </tr>\n",
       "    <tr>\n",
       "      <th>max</th>\n",
       "      <td>1.048575e+06</td>\n",
       "      <td>3.291392e+08</td>\n",
       "      <td>2.016000e+03</td>\n",
       "      <td>1.457298e+02</td>\n",
       "      <td>6.483778e+01</td>\n",
       "    </tr>\n",
       "  </tbody>\n",
       "</table>\n",
       "</div>"
      ],
      "text/plain": [
       "            CASE_ID  PREVAILING_WAGE          YEAR           lon           lat\n",
       "count  1.048575e+06     1.048571e+06  1.048575e+06  1.019007e+06  1.019007e+06\n",
       "mean   5.242880e+05     8.942724e+04  2.015618e+03 -9.224186e+01  3.816965e+01\n",
       "std    3.026977e+05     1.643214e+06  4.859268e-01  1.936639e+01  4.606127e+00\n",
       "min    1.000000e+00     0.000000e+00  2.015000e+03 -1.578583e+02  1.343719e+01\n",
       "25%    2.621445e+05     5.636800e+04  2.015000e+03 -1.118910e+02  3.415175e+01\n",
       "50%    5.242880e+05     6.651800e+04  2.016000e+03 -8.648955e+01  3.908400e+01\n",
       "75%    7.864315e+05     8.247200e+04  2.016000e+03 -7.559826e+01  4.088374e+01\n",
       "max    1.048575e+06     3.291392e+08  2.016000e+03  1.457298e+02  6.483778e+01"
      ]
     },
     "execution_count": 88,
     "metadata": {},
     "output_type": "execute_result"
    }
   ],
   "source": [
    "df.info()\n",
    "df.describe()"
   ]
  },
  {
   "cell_type": "code",
   "execution_count": 89,
   "id": "dc265d9f",
   "metadata": {},
   "outputs": [
    {
     "data": {
      "text/html": [
       "<div>\n",
       "<style scoped>\n",
       "    .dataframe tbody tr th:only-of-type {\n",
       "        vertical-align: middle;\n",
       "    }\n",
       "\n",
       "    .dataframe tbody tr th {\n",
       "        vertical-align: top;\n",
       "    }\n",
       "\n",
       "    .dataframe thead th {\n",
       "        text-align: right;\n",
       "    }\n",
       "</style>\n",
       "<table border=\"1\" class=\"dataframe\">\n",
       "  <thead>\n",
       "    <tr style=\"text-align: right;\">\n",
       "      <th></th>\n",
       "      <th>CASE_ID</th>\n",
       "      <th>CASE_STATUS</th>\n",
       "      <th>EMPLOYER_NAME</th>\n",
       "      <th>SOC_NAME</th>\n",
       "      <th>JOB_TITLE</th>\n",
       "      <th>FULL_TIME_POSITION</th>\n",
       "      <th>PREVAILING_WAGE</th>\n",
       "      <th>YEAR</th>\n",
       "      <th>WORKSITE</th>\n",
       "      <th>state</th>\n",
       "      <th>lon</th>\n",
       "      <th>lat</th>\n",
       "    </tr>\n",
       "  </thead>\n",
       "  <tbody>\n",
       "    <tr>\n",
       "      <th>0</th>\n",
       "      <td>1</td>\n",
       "      <td>CERTIFIED-WITHDRAWN</td>\n",
       "      <td>UNIVERSITY OF MICHIGAN</td>\n",
       "      <td>BIOCHEMISTS AND BIOPHYSICISTS</td>\n",
       "      <td>POSTDOCTORAL RESEARCH FELLOW</td>\n",
       "      <td>N</td>\n",
       "      <td>36067.0</td>\n",
       "      <td>2016</td>\n",
       "      <td>ANN ARBOR</td>\n",
       "      <td>washington</td>\n",
       "      <td>-83.743038</td>\n",
       "      <td>42.280826</td>\n",
       "    </tr>\n",
       "    <tr>\n",
       "      <th>1</th>\n",
       "      <td>2</td>\n",
       "      <td>CERTIFIED-WITHDRAWN</td>\n",
       "      <td>GOODMAN NETWORKS, INC.</td>\n",
       "      <td>CHIEF EXECUTIVES</td>\n",
       "      <td>CHIEF OPERATING OFFICER</td>\n",
       "      <td>Y</td>\n",
       "      <td>242674.0</td>\n",
       "      <td>2016</td>\n",
       "      <td>PLANO</td>\n",
       "      <td>new york</td>\n",
       "      <td>-96.698886</td>\n",
       "      <td>33.019843</td>\n",
       "    </tr>\n",
       "    <tr>\n",
       "      <th>2</th>\n",
       "      <td>3</td>\n",
       "      <td>CERTIFIED-WITHDRAWN</td>\n",
       "      <td>PORTS AMERICA GROUP, INC.</td>\n",
       "      <td>CHIEF EXECUTIVES</td>\n",
       "      <td>CHIEF PROCESS OFFICER</td>\n",
       "      <td>Y</td>\n",
       "      <td>193066.0</td>\n",
       "      <td>2016</td>\n",
       "      <td>JERSEY CITY</td>\n",
       "      <td>new york</td>\n",
       "      <td>-74.077642</td>\n",
       "      <td>40.728158</td>\n",
       "    </tr>\n",
       "    <tr>\n",
       "      <th>3</th>\n",
       "      <td>4</td>\n",
       "      <td>CERTIFIED-WITHDRAWN</td>\n",
       "      <td>GATES CORPORATION, A WHOLLY-OWNED SUBSIDIARY O...</td>\n",
       "      <td>CHIEF EXECUTIVES</td>\n",
       "      <td>REGIONAL PRESIDEN, AMERICAS</td>\n",
       "      <td>Y</td>\n",
       "      <td>220314.0</td>\n",
       "      <td>2016</td>\n",
       "      <td>DENVER</td>\n",
       "      <td>washington</td>\n",
       "      <td>-104.990251</td>\n",
       "      <td>39.739236</td>\n",
       "    </tr>\n",
       "    <tr>\n",
       "      <th>4</th>\n",
       "      <td>5</td>\n",
       "      <td>WITHDRAWN</td>\n",
       "      <td>PEABODY INVESTMENTS CORP.</td>\n",
       "      <td>CHIEF EXECUTIVES</td>\n",
       "      <td>PRESIDENT MONGOLIA AND INDIA</td>\n",
       "      <td>Y</td>\n",
       "      <td>157518.4</td>\n",
       "      <td>2016</td>\n",
       "      <td>ST. LOUIS</td>\n",
       "      <td>washington</td>\n",
       "      <td>-90.199404</td>\n",
       "      <td>38.627003</td>\n",
       "    </tr>\n",
       "  </tbody>\n",
       "</table>\n",
       "</div>"
      ],
      "text/plain": [
       "   CASE_ID          CASE_STATUS  \\\n",
       "0        1  CERTIFIED-WITHDRAWN   \n",
       "1        2  CERTIFIED-WITHDRAWN   \n",
       "2        3  CERTIFIED-WITHDRAWN   \n",
       "3        4  CERTIFIED-WITHDRAWN   \n",
       "4        5            WITHDRAWN   \n",
       "\n",
       "                                       EMPLOYER_NAME  \\\n",
       "0                             UNIVERSITY OF MICHIGAN   \n",
       "1                             GOODMAN NETWORKS, INC.   \n",
       "2                          PORTS AMERICA GROUP, INC.   \n",
       "3  GATES CORPORATION, A WHOLLY-OWNED SUBSIDIARY O...   \n",
       "4                          PEABODY INVESTMENTS CORP.   \n",
       "\n",
       "                        SOC_NAME                     JOB_TITLE  \\\n",
       "0  BIOCHEMISTS AND BIOPHYSICISTS  POSTDOCTORAL RESEARCH FELLOW   \n",
       "1               CHIEF EXECUTIVES       CHIEF OPERATING OFFICER   \n",
       "2               CHIEF EXECUTIVES         CHIEF PROCESS OFFICER   \n",
       "3               CHIEF EXECUTIVES   REGIONAL PRESIDEN, AMERICAS   \n",
       "4               CHIEF EXECUTIVES  PRESIDENT MONGOLIA AND INDIA   \n",
       "\n",
       "  FULL_TIME_POSITION  PREVAILING_WAGE  YEAR     WORKSITE       state  \\\n",
       "0                  N          36067.0  2016    ANN ARBOR  washington   \n",
       "1                  Y         242674.0  2016        PLANO    new york   \n",
       "2                  Y         193066.0  2016  JERSEY CITY    new york   \n",
       "3                  Y         220314.0  2016       DENVER  washington   \n",
       "4                  Y         157518.4  2016    ST. LOUIS  washington   \n",
       "\n",
       "          lon        lat  \n",
       "0  -83.743038  42.280826  \n",
       "1  -96.698886  33.019843  \n",
       "2  -74.077642  40.728158  \n",
       "3 -104.990251  39.739236  \n",
       "4  -90.199404  38.627003  "
      ]
     },
     "execution_count": 89,
     "metadata": {},
     "output_type": "execute_result"
    }
   ],
   "source": [
    "df.head()"
   ]
  },
  {
   "cell_type": "code",
   "execution_count": 90,
   "id": "73db2faf",
   "metadata": {},
   "outputs": [
    {
     "data": {
      "text/plain": [
       "CERTIFIED              914251\n",
       "CERTIFIED-WITHDRAWN     83160\n",
       "WITHDRAWN               35494\n",
       "DENIED                  15670\n",
       "Name: CASE_STATUS, dtype: int64"
      ]
     },
     "execution_count": 90,
     "metadata": {},
     "output_type": "execute_result"
    }
   ],
   "source": [
    "df['CASE_STATUS'].value_counts()"
   ]
  },
  {
   "cell_type": "code",
   "execution_count": 91,
   "id": "144925cb",
   "metadata": {},
   "outputs": [],
   "source": [
    "df=df.drop(df[df['CASE_STATUS']=='CERTIFIED-WITHDRAWN'].index)"
   ]
  },
  {
   "cell_type": "code",
   "execution_count": 92,
   "id": "be332c68",
   "metadata": {},
   "outputs": [],
   "source": [
    "df=df.drop(df[df['CASE_STATUS']=='WITHDRAWN'].index)"
   ]
  },
  {
   "cell_type": "code",
   "execution_count": 93,
   "id": "54aaa3a9",
   "metadata": {},
   "outputs": [
    {
     "data": {
      "text/plain": [
       "CERTIFIED    914251\n",
       "DENIED        15670\n",
       "Name: CASE_STATUS, dtype: int64"
      ]
     },
     "execution_count": 93,
     "metadata": {},
     "output_type": "execute_result"
    }
   ],
   "source": [
    "df['CASE_STATUS'].value_counts()"
   ]
  },
  {
   "cell_type": "code",
   "execution_count": 94,
   "id": "ba716136",
   "metadata": {},
   "outputs": [
    {
     "name": "stdout",
     "output_type": "stream",
     "text": [
      "CASE_ID                   0\n",
      "CASE_STATUS               0\n",
      "EMPLOYER_NAME            12\n",
      "SOC_NAME                  6\n",
      "JOB_TITLE                 3\n",
      "FULL_TIME_POSITION        1\n",
      "PREVAILING_WAGE           3\n",
      "YEAR                      0\n",
      "WORKSITE                 29\n",
      "state                     0\n",
      "lon                   26082\n",
      "lat                   26082\n",
      "dtype: int64\n"
     ]
    }
   ],
   "source": [
    "count_nan=len(df) -df.count()\n",
    "print(count_nan)"
   ]
  },
  {
   "cell_type": "code",
   "execution_count": 95,
   "id": "68acdbf1",
   "metadata": {},
   "outputs": [
    {
     "data": {
      "text/plain": [
       "'INFOSYS LIMITED'"
      ]
     },
     "execution_count": 95,
     "metadata": {},
     "output_type": "execute_result"
    }
   ],
   "source": [
    "df['EMPLOYER_NAME'].mode()[0]"
   ]
  },
  {
   "cell_type": "code",
   "execution_count": 96,
   "id": "85dcc7e4",
   "metadata": {},
   "outputs": [],
   "source": [
    "df['EMPLOYER_NAME']=df['EMPLOYER_NAME'].fillna(df['EMPLOYER_NAME'].mode()[0])"
   ]
  },
  {
   "cell_type": "code",
   "execution_count": 97,
   "id": "793676cc",
   "metadata": {},
   "outputs": [],
   "source": [
    "df['SOC_NAME']=df['SOC_NAME'].fillna(df['SOC_NAME'].mode()[0])\n",
    "df['JOB_TITLE']=df['JOB_TITLE'].fillna(df['JOB_TITLE'].mode()[0])\n",
    "df['FULL_TIME_POSITION']=df['FULL_TIME_POSITION'].fillna(df['FULL_TIME_POSITION'].mode()[0])\n",
    "df['PREVAILING_WAGE']=df['PREVAILING_WAGE'].fillna(df['PREVAILING_WAGE'].mode()[0])\n"
   ]
  },
  {
   "cell_type": "code",
   "execution_count": 98,
   "id": "919c9147",
   "metadata": {},
   "outputs": [],
   "source": [
    "df=df.drop('lat',axis=1)\n",
    "df=df.drop('lon',axis=1)\n",
    "df=df.drop('WORKSITE',axis=1)\n",
    "df=df.drop('CASE_ID',axis=1)\n",
    "df=df.drop('EMPLOYER_NAME',axis=1)\n",
    "df=df.drop('JOB_TITLE',axis=1)"
   ]
  },
  {
   "cell_type": "code",
   "execution_count": 99,
   "id": "031e981a",
   "metadata": {},
   "outputs": [
    {
     "name": "stdout",
     "output_type": "stream",
     "text": [
      "CASE_STATUS           0\n",
      "SOC_NAME              0\n",
      "FULL_TIME_POSITION    0\n",
      "PREVAILING_WAGE       0\n",
      "YEAR                  0\n",
      "state                 0\n",
      "dtype: int64\n"
     ]
    }
   ],
   "source": [
    "count_nan=len(df)-df.count()\n",
    "print(count_nan)\n"
   ]
  },
  {
   "cell_type": "code",
   "execution_count": 100,
   "id": "d1db5042",
   "metadata": {},
   "outputs": [],
   "source": [
    "def boxplot(df,col):\n",
    "        data_to_plot=[df[df['CASE_STATUS']=='CERTIFIED'][col],df[df['CASE_STATUS']=='DENIED'][col]]\n",
    "        fig =plt.figure(figsize=(9,6))\n",
    "        ax=fig.add_subplot(111)\n",
    "        ax.boxplot(data_to_plot)\n",
    "        plt.ylabel(col,fontsize=14)\n",
    "        plt.show()\n",
    "                    "
   ]
  },
  {
   "cell_type": "code",
   "execution_count": 101,
   "id": "6925115f",
   "metadata": {},
   "outputs": [
    {
     "data": {
      "text/plain": [
       "False"
      ]
     },
     "execution_count": 101,
     "metadata": {},
     "output_type": "execute_result"
    }
   ],
   "source": [
    "df.isnull().any().any()"
   ]
  },
  {
   "cell_type": "code",
   "execution_count": 102,
   "id": "017c05eb",
   "metadata": {
    "scrolled": true
   },
   "outputs": [
    {
     "data": {
      "image/png": "[encoded data removed]",
      "text/plain": [
       "<Figure size 648x432 with 1 Axes>"
      ]
     },
     "metadata": {
      "needs_background": "light"
     },
     "output_type": "display_data"
    }
   ],
   "source": [
    "boxplot(df,'PREVAILING_WAGE')"
   ]
  },
  {
   "cell_type": "code",
   "execution_count": 103,
   "id": "657ab8a4",
   "metadata": {},
   "outputs": [],
   "source": [
    "df['SOC_NAME']=df['SOC_NAME'].str.lower()\n",
    "df['state']=df['state'].str.lower()"
   ]
  },
  {
   "cell_type": "code",
   "execution_count": 104,
   "id": "af0d6d5a",
   "metadata": {},
   "outputs": [
    {
     "data": {
      "text/plain": [
       "software developers, applications                       162018\n",
       "computer systems analysts                               159803\n",
       "computer programmers                                    130823\n",
       "computer occupations, all other                          81738\n",
       "software developers, systems software                    28936\n",
       "                                                         ...  \n",
       "architectural and engineers managers                         1\n",
       "computer occupations/all other                               1\n",
       "title examiners, abstractors, and searchers                  1\n",
       "transportation managers                                      1\n",
       "elementary school teachers, except special education         1\n",
       "Name: SOC_NAME, Length: 1117, dtype: int64"
      ]
     },
     "execution_count": 104,
     "metadata": {},
     "output_type": "execute_result"
    }
   ],
   "source": [
    "df['SOC_NAME'].value_counts()"
   ]
  },
  {
   "cell_type": "code",
   "execution_count": 105,
   "id": "867580d4",
   "metadata": {},
   "outputs": [],
   "source": [
    "import sys\n",
    "import warnings\n",
    "warnings.filterwarnings(\"ignore\")\n",
    "df['SOC_NAME1'] = 'others'\n",
    "df['SOC_NAME1'][df['SOC_NAME'].str.contains('computer','software')]='it'\n",
    "df['SOC_NAME1'][df['SOC_NAME'].str.contains('chief','management')]='manager'\n"
   ]
  },
  {
   "cell_type": "code",
   "execution_count": 106,
   "id": "d970f7f5",
   "metadata": {},
   "outputs": [
    {
     "data": {
      "text/plain": [
       "others     490815\n",
       "it         438304\n",
       "manager       802\n",
       "Name: SOC_NAME1, dtype: int64"
      ]
     },
     "execution_count": 106,
     "metadata": {},
     "output_type": "execute_result"
    }
   ],
   "source": [
    "df['SOC_NAME1'].value_counts()"
   ]
  },
  {
   "cell_type": "code",
   "execution_count": 107,
   "id": "31d46fa7",
   "metadata": {},
   "outputs": [],
   "source": [
    "df=df.drop('SOC_NAME',axis=1)"
   ]
  },
  {
   "cell_type": "code",
   "execution_count": 108,
   "id": "4e90fe8a",
   "metadata": {},
   "outputs": [
    {
     "data": {
      "text/html": [
       "<div>\n",
       "<style scoped>\n",
       "    .dataframe tbody tr th:only-of-type {\n",
       "        vertical-align: middle;\n",
       "    }\n",
       "\n",
       "    .dataframe tbody tr th {\n",
       "        vertical-align: top;\n",
       "    }\n",
       "\n",
       "    .dataframe thead th {\n",
       "        text-align: right;\n",
       "    }\n",
       "</style>\n",
       "<table border=\"1\" class=\"dataframe\">\n",
       "  <thead>\n",
       "    <tr style=\"text-align: right;\">\n",
       "      <th></th>\n",
       "      <th>CASE_STATUS</th>\n",
       "      <th>FULL_TIME_POSITION</th>\n",
       "      <th>PREVAILING_WAGE</th>\n",
       "      <th>YEAR</th>\n",
       "      <th>state</th>\n",
       "      <th>SOC_NAME1</th>\n",
       "    </tr>\n",
       "  </thead>\n",
       "  <tbody>\n",
       "    <tr>\n",
       "      <th>18</th>\n",
       "      <td>CERTIFIED</td>\n",
       "      <td>Y</td>\n",
       "      <td>187200.0</td>\n",
       "      <td>2016</td>\n",
       "      <td>new york</td>\n",
       "      <td>manager</td>\n",
       "    </tr>\n",
       "    <tr>\n",
       "      <th>19</th>\n",
       "      <td>CERTIFIED</td>\n",
       "      <td>Y</td>\n",
       "      <td>241842.0</td>\n",
       "      <td>2016</td>\n",
       "      <td>washington</td>\n",
       "      <td>manager</td>\n",
       "    </tr>\n",
       "    <tr>\n",
       "      <th>22</th>\n",
       "      <td>CERTIFIED</td>\n",
       "      <td>Y</td>\n",
       "      <td>99986.0</td>\n",
       "      <td>2016</td>\n",
       "      <td>new york</td>\n",
       "      <td>manager</td>\n",
       "    </tr>\n",
       "    <tr>\n",
       "      <th>23</th>\n",
       "      <td>CERTIFIED</td>\n",
       "      <td>Y</td>\n",
       "      <td>99986.0</td>\n",
       "      <td>2016</td>\n",
       "      <td>new york</td>\n",
       "      <td>manager</td>\n",
       "    </tr>\n",
       "    <tr>\n",
       "      <th>25</th>\n",
       "      <td>CERTIFIED</td>\n",
       "      <td>Y</td>\n",
       "      <td>187200.0</td>\n",
       "      <td>2016</td>\n",
       "      <td>new york</td>\n",
       "      <td>manager</td>\n",
       "    </tr>\n",
       "    <tr>\n",
       "      <th>...</th>\n",
       "      <td>...</td>\n",
       "      <td>...</td>\n",
       "      <td>...</td>\n",
       "      <td>...</td>\n",
       "      <td>...</td>\n",
       "      <td>...</td>\n",
       "    </tr>\n",
       "    <tr>\n",
       "      <th>1048570</th>\n",
       "      <td>CERTIFIED</td>\n",
       "      <td>Y</td>\n",
       "      <td>51605.0</td>\n",
       "      <td>2015</td>\n",
       "      <td>new york</td>\n",
       "      <td>it</td>\n",
       "    </tr>\n",
       "    <tr>\n",
       "      <th>1048571</th>\n",
       "      <td>CERTIFIED</td>\n",
       "      <td>Y</td>\n",
       "      <td>103792.0</td>\n",
       "      <td>2015</td>\n",
       "      <td>new york</td>\n",
       "      <td>others</td>\n",
       "    </tr>\n",
       "    <tr>\n",
       "      <th>1048572</th>\n",
       "      <td>CERTIFIED</td>\n",
       "      <td>Y</td>\n",
       "      <td>94162.0</td>\n",
       "      <td>2015</td>\n",
       "      <td>new york</td>\n",
       "      <td>others</td>\n",
       "    </tr>\n",
       "    <tr>\n",
       "      <th>1048573</th>\n",
       "      <td>CERTIFIED</td>\n",
       "      <td>Y</td>\n",
       "      <td>120619.0</td>\n",
       "      <td>2015</td>\n",
       "      <td>new york</td>\n",
       "      <td>it</td>\n",
       "    </tr>\n",
       "    <tr>\n",
       "      <th>1048574</th>\n",
       "      <td>CERTIFIED</td>\n",
       "      <td>Y</td>\n",
       "      <td>109512.0</td>\n",
       "      <td>2015</td>\n",
       "      <td>washington</td>\n",
       "      <td>it</td>\n",
       "    </tr>\n",
       "  </tbody>\n",
       "</table>\n",
       "<p>929921 rows × 6 columns</p>\n",
       "</div>"
      ],
      "text/plain": [
       "        CASE_STATUS FULL_TIME_POSITION  PREVAILING_WAGE  YEAR       state  \\\n",
       "18        CERTIFIED                  Y         187200.0  2016    new york   \n",
       "19        CERTIFIED                  Y         241842.0  2016  washington   \n",
       "22        CERTIFIED                  Y          99986.0  2016    new york   \n",
       "23        CERTIFIED                  Y          99986.0  2016    new york   \n",
       "25        CERTIFIED                  Y         187200.0  2016    new york   \n",
       "...             ...                ...              ...   ...         ...   \n",
       "1048570   CERTIFIED                  Y          51605.0  2015    new york   \n",
       "1048571   CERTIFIED                  Y         103792.0  2015    new york   \n",
       "1048572   CERTIFIED                  Y          94162.0  2015    new york   \n",
       "1048573   CERTIFIED                  Y         120619.0  2015    new york   \n",
       "1048574   CERTIFIED                  Y         109512.0  2015  washington   \n",
       "\n",
       "        SOC_NAME1  \n",
       "18        manager  \n",
       "19        manager  \n",
       "22        manager  \n",
       "23        manager  \n",
       "25        manager  \n",
       "...           ...  \n",
       "1048570        it  \n",
       "1048571    others  \n",
       "1048572    others  \n",
       "1048573        it  \n",
       "1048574        it  \n",
       "\n",
       "[929921 rows x 6 columns]"
      ]
     },
     "execution_count": 108,
     "metadata": {},
     "output_type": "execute_result"
    }
   ],
   "source": [
    "df"
   ]
  },
  {
   "cell_type": "code",
   "execution_count": 109,
   "id": "e52cc6b6",
   "metadata": {},
   "outputs": [
    {
     "name": "stdout",
     "output_type": "stream",
     "text": [
      "['N' 'Y']\n",
      "18         1\n",
      "19         1\n",
      "22         1\n",
      "23         1\n",
      "25         1\n",
      "          ..\n",
      "1048570    1\n",
      "1048571    1\n",
      "1048572    1\n",
      "1048573    1\n",
      "1048574    1\n",
      "Name: FULL_TIME_POSITION, Length: 929921, dtype: int32\n"
     ]
    }
   ],
   "source": [
    "from sklearn import preprocessing\n",
    "le=preprocessing.LabelEncoder()\n",
    "le.fit(df.FULL_TIME_POSITION)\n",
    "print(le.classes_)\n",
    "df['FULL_TIME_POSITION']=le.transform(df['FULL_TIME_POSITION'])\n",
    "print(df.FULL_TIME_POSITION)\n"
   ]
  },
  {
   "cell_type": "code",
   "execution_count": 110,
   "id": "6a5aff5a",
   "metadata": {},
   "outputs": [
    {
     "data": {
      "text/plain": [
       "new york      578944\n",
       "washington    261845\n",
       "indiana        89132\n",
       "Name: state, dtype: int64"
      ]
     },
     "execution_count": 110,
     "metadata": {},
     "output_type": "execute_result"
    }
   ],
   "source": [
    "df['state'].value_counts()"
   ]
  },
  {
   "cell_type": "code",
   "execution_count": 111,
   "id": "5fbf7d04",
   "metadata": {},
   "outputs": [
    {
     "data": {
      "text/plain": [
       "array([[1, 187200.0, 2016, 'new york', 'manager'],\n",
       "       [1, 241842.0, 2016, 'washington', 'manager'],\n",
       "       [1, 99986.0, 2016, 'new york', 'manager'],\n",
       "       ...,\n",
       "       [1, 94162.0, 2015, 'new york', 'others'],\n",
       "       [1, 120619.0, 2015, 'new york', 'it'],\n",
       "       [1, 109512.0, 2015, 'washington', 'it']], dtype=object)"
      ]
     },
     "execution_count": 111,
     "metadata": {},
     "output_type": "execute_result"
    }
   ],
   "source": [
    "x=df.drop('CASE_STATUS',axis=1).values\n",
    "x"
   ]
  },
  {
   "cell_type": "code",
   "execution_count": 112,
   "id": "021dda71",
   "metadata": {},
   "outputs": [
    {
     "name": "stdout",
     "output_type": "stream",
     "text": [
      "['CERTIFIED' 'DENIED']\n"
     ]
    },
    {
     "data": {
      "text/plain": [
       "array([0, 0, 0, ..., 0, 0, 0])"
      ]
     },
     "execution_count": 112,
     "metadata": {},
     "output_type": "execute_result"
    }
   ],
   "source": [
    "from sklearn import preprocessing\n",
    "le=preprocessing.LabelEncoder()\n",
    "le.fit(df.CASE_STATUS)\n",
    "print(le.classes_)\n",
    "y=le.transform(df['CASE_STATUS'])\n",
    "y"
   ]
  },
  {
   "cell_type": "code",
   "execution_count": 113,
   "id": "d56dcb1f",
   "metadata": {},
   "outputs": [],
   "source": [
    "from sklearn.compose import ColumnTransformer\n",
    "from sklearn.preprocessing import OneHotEncoder\n",
    "from sklearn.pipeline import Pipeline"
   ]
  },
  {
   "cell_type": "code",
   "execution_count": 114,
   "id": "c2f7dac9",
   "metadata": {},
   "outputs": [
    {
     "data": {
      "text/plain": [
       "array([[1, 187200.0, 2016, 'new york', 'manager'],\n",
       "       [1, 241842.0, 2016, 'washington', 'manager'],\n",
       "       [1, 99986.0, 2016, 'new york', 'manager'],\n",
       "       ...,\n",
       "       [1, 94162.0, 2015, 'new york', 'others'],\n",
       "       [1, 120619.0, 2015, 'new york', 'it'],\n",
       "       [1, 109512.0, 2015, 'washington', 'it']], dtype=object)"
      ]
     },
     "execution_count": 114,
     "metadata": {},
     "output_type": "execute_result"
    }
   ],
   "source": [
    "x"
   ]
  },
  {
   "cell_type": "code",
   "execution_count": 115,
   "id": "a4e9d980",
   "metadata": {},
   "outputs": [
    {
     "data": {
      "text/plain": [
       "array([[0.0, 1.0, 0.0, ..., 187200.0, 2016, 'manager'],\n",
       "       [0.0, 0.0, 1.0, ..., 241842.0, 2016, 'manager'],\n",
       "       [0.0, 1.0, 0.0, ..., 99986.0, 2016, 'manager'],\n",
       "       ...,\n",
       "       [0.0, 1.0, 0.0, ..., 94162.0, 2015, 'others'],\n",
       "       [0.0, 1.0, 0.0, ..., 120619.0, 2015, 'it'],\n",
       "       [0.0, 0.0, 1.0, ..., 109512.0, 2015, 'it']], dtype=object)"
      ]
     },
     "execution_count": 115,
     "metadata": {},
     "output_type": "execute_result"
    }
   ],
   "source": [
    "ct=ColumnTransformer([(\"oh\",OneHotEncoder(),[3])],remainder=\"passthrough\")\n",
    "x=ct.fit_transform(x)\n",
    "x"
   ]
  },
  {
   "cell_type": "code",
   "execution_count": 116,
   "id": "15213739",
   "metadata": {},
   "outputs": [
    {
     "data": {
      "text/plain": [
       "array([[1.0, 0.0, 1, 187200.0, 2016, 'manager'],\n",
       "       [0.0, 1.0, 1, 241842.0, 2016, 'manager'],\n",
       "       [1.0, 0.0, 1, 99986.0, 2016, 'manager'],\n",
       "       ...,\n",
       "       [1.0, 0.0, 1, 94162.0, 2015, 'others'],\n",
       "       [1.0, 0.0, 1, 120619.0, 2015, 'it'],\n",
       "       [0.0, 1.0, 1, 109512.0, 2015, 'it']], dtype=object)"
      ]
     },
     "execution_count": 116,
     "metadata": {},
     "output_type": "execute_result"
    }
   ],
   "source": [
    "x=x[:,1:]\n",
    "x"
   ]
  },
  {
   "cell_type": "code",
   "execution_count": 117,
   "id": "4cd18b6d",
   "metadata": {},
   "outputs": [
    {
     "data": {
      "text/plain": [
       "array([[0.0, 1.0, 0.0, ..., 1, 187200.0, 2016],\n",
       "       [0.0, 1.0, 0.0, ..., 1, 241842.0, 2016],\n",
       "       [0.0, 1.0, 0.0, ..., 1, 99986.0, 2016],\n",
       "       ...,\n",
       "       [0.0, 0.0, 1.0, ..., 1, 94162.0, 2015],\n",
       "       [1.0, 0.0, 0.0, ..., 1, 120619.0, 2015],\n",
       "       [1.0, 0.0, 0.0, ..., 1, 109512.0, 2015]], dtype=object)"
      ]
     },
     "execution_count": 117,
     "metadata": {},
     "output_type": "execute_result"
    }
   ],
   "source": [
    "ct2=ColumnTransformer([(\"oh\",OneHotEncoder(),[5])],remainder=\"passthrough\")\n",
    "x=ct2.fit_transform(x)\n",
    "x"
   ]
  },
  {
   "cell_type": "code",
   "execution_count": 118,
   "id": "d859c230",
   "metadata": {},
   "outputs": [
    {
     "data": {
      "text/plain": [
       "array([[1.0, 0.0, 1.0, ..., 1, 187200.0, 2016],\n",
       "       [1.0, 0.0, 0.0, ..., 1, 241842.0, 2016],\n",
       "       [1.0, 0.0, 1.0, ..., 1, 99986.0, 2016],\n",
       "       ...,\n",
       "       [0.0, 1.0, 1.0, ..., 1, 94162.0, 2015],\n",
       "       [0.0, 0.0, 1.0, ..., 1, 120619.0, 2015],\n",
       "       [0.0, 0.0, 0.0, ..., 1, 109512.0, 2015]], dtype=object)"
      ]
     },
     "execution_count": 118,
     "metadata": {},
     "output_type": "execute_result"
    }
   ],
   "source": [
    "x=x[:,1:]\n",
    "x"
   ]
  },
  {
   "cell_type": "code",
   "execution_count": 119,
   "id": "d276bf8c",
   "metadata": {},
   "outputs": [
    {
     "data": {
      "text/plain": [
       "['vivtransform']"
      ]
     },
     "execution_count": 119,
     "metadata": {},
     "output_type": "execute_result"
    }
   ],
   "source": [
    "import joblib\n",
    "joblib.dump(ct,'vivtransform')"
   ]
  },
  {
   "cell_type": "code",
   "execution_count": 120,
   "id": "efba4dbb",
   "metadata": {},
   "outputs": [
    {
     "data": {
      "text/plain": [
       "['vivtransform2']"
      ]
     },
     "execution_count": 120,
     "metadata": {},
     "output_type": "execute_result"
    }
   ],
   "source": [
    "import joblib\n",
    "joblib.dump(ct2,'vivtransform2')"
   ]
  },
  {
   "cell_type": "code",
   "execution_count": 121,
   "id": "59b5d141",
   "metadata": {},
   "outputs": [
    {
     "data": {
      "text/plain": [
       "array([0, 0, 0, ..., 0, 0, 0])"
      ]
     },
     "execution_count": 121,
     "metadata": {},
     "output_type": "execute_result"
    }
   ],
   "source": [
    "y"
   ]
  },
  {
   "cell_type": "code",
   "execution_count": 122,
   "id": "4aa1316d",
   "metadata": {},
   "outputs": [],
   "source": [
    "from sklearn.compose import ColumnTransformer\n",
    "from sklearn.preprocessing import OneHotEncoder\n",
    "from sklearn.pipeline import Pipeline"
   ]
  },
  {
   "cell_type": "code",
   "execution_count": 123,
   "id": "f7cddc93",
   "metadata": {},
   "outputs": [],
   "source": [
    "seed=7\n",
    "test_size=0.40\n",
    "x_train, x_test, y_train,y_test = train_test_split(x,y,test_size=test_size,random_state=seed)"
   ]
  },
  {
   "cell_type": "code",
   "execution_count": 134,
   "id": "a0b8f579",
   "metadata": {},
   "outputs": [],
   "source": [
    "from sklearn.pipeline import Pipeline\n",
    "from sklearn.preprocessing import MinMaxScaler\n",
    "from sklearn.naive_bayes import GaussianNB"
   ]
  },
  {
   "cell_type": "code",
   "execution_count": 125,
   "id": "0d839bee",
   "metadata": {},
   "outputs": [],
   "source": [
    "pipe=Pipeline([(\"mn\",MinMaxScaler()),(\"nb\",GaussianNB())])"
   ]
  },
  {
   "cell_type": "code",
   "execution_count": 126,
   "id": "061d3687",
   "metadata": {},
   "outputs": [
    {
     "data": {
      "text/plain": [
       "Pipeline(steps=[('mn', MinMaxScaler()), ('nb', GaussianNB())])"
      ]
     },
     "execution_count": 126,
     "metadata": {},
     "output_type": "execute_result"
    }
   ],
   "source": [
    "pipe.fit(x_train,y_train)"
   ]
  },
  {
   "cell_type": "code",
   "execution_count": 127,
   "id": "3a66015a",
   "metadata": {},
   "outputs": [
    {
     "data": {
      "text/plain": [
       "['vi.save']"
      ]
     },
     "execution_count": 127,
     "metadata": {},
     "output_type": "execute_result"
    }
   ],
   "source": [
    "joblib.dump(pipe,'vi.save')"
   ]
  },
  {
   "cell_type": "code",
   "execution_count": 128,
   "id": "b96be723",
   "metadata": {
    "scrolled": true
   },
   "outputs": [
    {
     "data": {
      "text/plain": [
       "array([0, 0, 0, ..., 0, 0, 0])"
      ]
     },
     "execution_count": 128,
     "metadata": {},
     "output_type": "execute_result"
    }
   ],
   "source": [
    "y_pred=pipe.predict(x_test)\n",
    "y_pred"
   ]
  },
  {
   "cell_type": "code",
   "execution_count": 129,
   "id": "844a0d89",
   "metadata": {},
   "outputs": [
    {
     "data": {
      "text/plain": [
       "0.9824071360785441"
      ]
     },
     "execution_count": 129,
     "metadata": {},
     "output_type": "execute_result"
    }
   ],
   "source": [
    "from sklearn.metrics import accuracy_score\n",
    "accuracy_score(y_test,y_pred)"
   ]
  },
  {
   "cell_type": "code",
   "execution_count": 130,
   "id": "c728c45b",
   "metadata": {},
   "outputs": [
    {
     "data": {
      "text/plain": [
       "array([[1.0, 0.0, 1.0, ..., 1, 187200.0, 2016],\n",
       "       [1.0, 0.0, 0.0, ..., 1, 241842.0, 2016],\n",
       "       [1.0, 0.0, 1.0, ..., 1, 99986.0, 2016],\n",
       "       ...,\n",
       "       [0.0, 1.0, 1.0, ..., 1, 94162.0, 2015],\n",
       "       [0.0, 0.0, 1.0, ..., 1, 120619.0, 2015],\n",
       "       [0.0, 0.0, 0.0, ..., 1, 109512.0, 2015]], dtype=object)"
      ]
     },
     "execution_count": 130,
     "metadata": {},
     "output_type": "execute_result"
    }
   ],
   "source": [
    "x"
   ]
  },
  {
   "cell_type": "code",
   "execution_count": 131,
   "id": "014705be",
   "metadata": {},
   "outputs": [
    {
     "data": {
      "text/plain": [
       "array([0, 0, 0, ..., 0, 0, 0])"
      ]
     },
     "execution_count": 131,
     "metadata": {},
     "output_type": "execute_result"
    }
   ],
   "source": [
    "y"
   ]
  },
  {
   "cell_type": "code",
   "execution_count": 132,
   "id": "764c7f0a",
   "metadata": {},
   "outputs": [
    {
     "data": {
      "text/plain": [
       "array([0])"
      ]
     },
     "execution_count": 132,
     "metadata": {},
     "output_type": "execute_result"
    }
   ],
   "source": [
    "pipe.predict([[0,0,0,0,1,187200,2015]])"
   ]
  },
  {
   "cell_type": "code",
   "execution_count": 133,
   "id": "77f37a36",
   "metadata": {},
   "outputs": [
    {
     "data": {
      "text/plain": [
       "array([1])"
      ]
     },
     "execution_count": 133,
     "metadata": {},
     "output_type": "execute_result"
    }
   ],
   "source": [
    "pipe.predict([[1,1,0,1,1,187200,2016]])"
   ]
  },
  {
   "cell_type": "code",
   "execution_count": null,
   "id": "9d27ac09",
   "metadata": {},
   "outputs": [],
   "source": []
  },
  {
   "cell_type": "code",
   "execution_count": null,
   "id": "8098e152",
   "metadata": {},
   "outputs": [],
   "source": []
  },
  {
   "cell_type": "code",
   "execution_count": null,
   "id": "787bf58e",
   "metadata": {},
   "outputs": [],
   "source": []
  },
  {
   "cell_type": "code",
   "execution_count": null,
   "id": "f45a9b01",
   "metadata": {},
   "outputs": [],
   "source": []
  },
  {
   "cell_type": "code",
   "execution_count": null,
   "id": "27bc4465",
   "metadata": {},
   "outputs": [],
   "source": []
  }
 ],
 "metadata": {
  "kernelspec": {
   "display_name": "Python 3",
   "language": "python",
   "name": "python3"
  },
  "language_info": {
   "codemirror_mode": {
    "name": "ipython",
    "version": 3
   },
   "file_extension": ".py",
   "mimetype": "text/x-python",
   "name": "python",
   "nbconvert_exporter": "python",
   "pygments_lexer": "ipython3",
   "version": "3.8.8"
  }
 },
 "nbformat": 4,
 "nbformat_minor": 5
}
